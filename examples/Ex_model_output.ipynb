{
 "cells": [
  {
   "cell_type": "code",
   "execution_count": null,
   "id": "c23805f6",
   "metadata": {},
   "outputs": [],
   "source": [
    "from pyhydrogeophsx.model_output.parflow_output import ParflowSaturation, ParflowPorosity\n",
    "\n"
   ]
  },
  {
   "cell_type": "code",
   "execution_count": null,
   "id": "5c5684fd",
   "metadata": {},
   "outputs": [],
   "source": [
    "# Load saturation data\n",
    "saturation_processor = ParflowSaturation(\n",
    "    model_directory=\"./outputs/test3\",\n",
    "    run_name=\"test3\"\n",
    ")\n",
    "saturation = saturation_processor.load_timestep(0)  # Load first timestep\n",
    "\n",
    "# Load porosity data\n",
    "porosity_processor = ParflowPorosity(\n",
    "    model_directory=\"./outputs/test3\",\n",
    "    run_name=\"test3\"\n",
    ")\n",
    "porosity = porosity_processor.load_porosity()\n",
    "\n",
    "# Calculate saturation/porosity ratio\n",
    "import numpy as np\n",
    "ratio = np.divide(saturation, porosity, where=porosity!=0)"
   ]
  }
 ],
 "metadata": {
  "language_info": {
   "name": "python"
  }
 },
 "nbformat": 4,
 "nbformat_minor": 5
}
