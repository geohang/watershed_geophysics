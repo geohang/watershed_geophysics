{
 "cells": [
  {
   "cell_type": "code",
   "execution_count": null,
   "id": "c23805f6",
   "metadata": {},
   "outputs": [],
   "source": [
    "import os\n",
    "import sys\n",
    "\n",
    "# For Jupyter notebooks, use the current working directory\n",
    "try:\n",
    "    # For regular Python scripts\n",
    "    current_dir = os.path.dirname(os.path.abspath(__file__))\n",
    "except NameError:\n",
    "    # For Jupyter notebooks\n",
    "    current_dir = os.getcwd()\n",
    "# Add the parent directory (OPEN_ERT) to the path\n",
    "parent_dir = os.path.dirname(os.path.dirname(current_dir))\n",
    "if parent_dir not in sys.path:\n",
    "    sys.path.append(parent_dir)\n",
    "\n",
    "from watershed_geophysics.model_output.parflow_output import ParflowSaturation, ParflowPorosity\n",
    "\n",
    "from watershed_geophysics.model_output.modflow_output import MODFLOWWaterContent, MODFLOWPorosity"
   ]
  },
  {
   "cell_type": "code",
   "execution_count": 5,
   "id": "d318b7ad",
   "metadata": {},
   "outputs": [],
   "source": [
    "import watershed_geophysics.model_output as  model_output"
   ]
  },
  {
   "cell_type": "code",
   "execution_count": null,
   "id": "8894075e",
   "metadata": {},
   "outputs": [
    {
     "name": "stdout",
     "output_type": "stream",
     "text": [
      "\u001b[1;31mInit signature:\u001b[0m\n",
      "\u001b[0mmodel_output\u001b[0m\u001b[1;33m.\u001b[0m\u001b[0mparflow_output\u001b[0m\u001b[1;33m.\u001b[0m\u001b[0mParflowSaturation\u001b[0m\u001b[1;33m(\u001b[0m\u001b[1;33m\n",
      "\u001b[0m    \u001b[0mmodel_directory\u001b[0m\u001b[1;33m:\u001b[0m \u001b[0mstr\u001b[0m\u001b[1;33m,\u001b[0m\u001b[1;33m\n",
      "\u001b[0m    \u001b[0mrun_name\u001b[0m\u001b[1;33m:\u001b[0m \u001b[0mstr\u001b[0m\u001b[1;33m,\u001b[0m\u001b[1;33m\n",
      "\u001b[0m\u001b[1;33m)\u001b[0m\u001b[1;33m\u001b[0m\u001b[1;33m\u001b[0m\u001b[0m\n",
      "\u001b[1;31mDocstring:\u001b[0m      Class for processing saturation data from ParFlow simulations.\n",
      "\u001b[1;31mInit docstring:\u001b[0m\n",
      "Initialize ParFlow saturation processor.\n",
      "\n",
      "Args:\n",
      "    model_directory: Path to ParFlow simulation directory\n",
      "    run_name: Name of the ParFlow run\n",
      "\u001b[1;31mFile:\u001b[0m           c:\\users\\hchen8\\documents\\github\\watershed_geophysics\\model_output\\parflow_output.py\n",
      "\u001b[1;31mType:\u001b[0m           ABCMeta\n",
      "\u001b[1;31mSubclasses:\u001b[0m     "
     ]
    }
   ],
   "source": [
    "model_output.parflow_output.ParflowSaturation"
   ]
  },
  {
   "cell_type": "code",
   "execution_count": null,
   "id": "5c5684fd",
   "metadata": {},
   "outputs": [],
   "source": [
    "# Load saturation data\n",
    "saturation_processor = ParflowSaturation(\n",
    "    model_directory=\"./outputs/test3\",\n",
    "    run_name=\"test3\"\n",
    ")\n",
    "saturation = saturation_processor.load_timestep(0)  # Load first timestep\n",
    "\n",
    "# Load porosity data\n",
    "porosity_processor = ParflowPorosity(\n",
    "    model_directory=\"./outputs/test3\",\n",
    "    run_name=\"test3\"\n",
    ")\n",
    "porosity = porosity_processor.load_porosity()\n",
    "\n",
    "# Calculate saturation/porosity ratio\n",
    "import numpy as np\n",
    "ratio = np.divide(saturation, porosity, where=porosity!=0)"
   ]
  }
 ],
 "metadata": {
  "kernelspec": {
   "display_name": "pg",
   "language": "python",
   "name": "python3"
  },
  "language_info": {
   "codemirror_mode": {
    "name": "ipython",
    "version": 3
   },
   "file_extension": ".py",
   "mimetype": "text/x-python",
   "name": "python",
   "nbconvert_exporter": "python",
   "pygments_lexer": "ipython3",
   "version": "3.11.8"
  }
 },
 "nbformat": 4,
 "nbformat_minor": 5
}
