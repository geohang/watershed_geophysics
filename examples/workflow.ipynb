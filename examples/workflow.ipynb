{
 "cells": [
  {
   "cell_type": "markdown",
   "metadata": {},
   "source": [
    "\n",
    "### Complete workflow example using WatershedGeo:\n",
    "1. Load MODFLOW water content data\n",
    "2. Convert to resistivity model using petrophysical relationships\n",
    "3. Perform forward ERT simulation\n",
    "4. Conduct inversion to recover the resistivity model\n"
   ]
  },
  {
   "cell_type": "code",
   "execution_count": 16,
   "metadata": {},
   "outputs": [
    {
     "ename": "NameError",
     "evalue": "name 'Any' is not defined",
     "output_type": "error",
     "traceback": [
      "\u001b[1;31m---------------------------------------------------------------------------\u001b[0m",
      "\u001b[1;31mNameError\u001b[0m                                 Traceback (most recent call last)",
      "Cell \u001b[1;32mIn[16], line 15\u001b[0m\n\u001b[0;32m     12\u001b[0m     sys\u001b[38;5;241m.\u001b[39mpath\u001b[38;5;241m.\u001b[39mappend(parent_dir)\n\u001b[0;32m     14\u001b[0m \u001b[38;5;66;03m# Now you can import using the structure as you originally intended\u001b[39;00m\n\u001b[1;32m---> 15\u001b[0m \u001b[38;5;28;01mfrom\u001b[39;00m \u001b[38;5;21;01mwatershed_geophysics\u001b[39;00m\u001b[38;5;21;01m.\u001b[39;00m\u001b[38;5;21;01mmodflow\u001b[39;00m\u001b[38;5;21;01m.\u001b[39;00m\u001b[38;5;21;01mwater_content\u001b[39;00m \u001b[38;5;28;01mimport\u001b[39;00m MODFLOWWaterContent\n\u001b[0;32m     16\u001b[0m \u001b[38;5;28;01mfrom\u001b[39;00m \u001b[38;5;21;01mwatershed_geophysics\u001b[39;00m\u001b[38;5;21;01m.\u001b[39;00m\u001b[38;5;21;01mcore\u001b[39;00m\u001b[38;5;21;01m.\u001b[39;00m\u001b[38;5;21;01minterpolation\u001b[39;00m \u001b[38;5;28;01mimport\u001b[39;00m ProfileInterpolator\n\u001b[0;32m     17\u001b[0m \u001b[38;5;28;01mfrom\u001b[39;00m \u001b[38;5;21;01mwatershed_geophysics\u001b[39;00m\u001b[38;5;21;01m.\u001b[39;00m\u001b[38;5;21;01mcore\u001b[39;00m\u001b[38;5;21;01m.\u001b[39;00m\u001b[38;5;21;01mmesh_utils\u001b[39;00m \u001b[38;5;28;01mimport\u001b[39;00m MeshCreator\n",
      "File \u001b[1;32mc:\\Users\\HChen8\\Documents\\Open_ERT\\watershed_geophysics\\__init__.py:74\u001b[0m\n\u001b[0;32m     60\u001b[0m \u001b[38;5;28;01mfrom\u001b[39;00m \u001b[38;5;21;01mwatershed_geophysics\u001b[39;00m\u001b[38;5;21;01m.\u001b[39;00m\u001b[38;5;21;01msolvers\u001b[39;00m\u001b[38;5;21;01m.\u001b[39;00m\u001b[38;5;21;01mlinear_solvers\u001b[39;00m \u001b[38;5;28;01mimport\u001b[39;00m (\n\u001b[0;32m     61\u001b[0m     generalized_solver,\n\u001b[0;32m     62\u001b[0m     LinearSolver,\n\u001b[1;32m   (...)\u001b[0m\n\u001b[0;32m     70\u001b[0m     get_optimal_solver\n\u001b[0;32m     71\u001b[0m )\n\u001b[0;32m     73\u001b[0m \u001b[38;5;66;03m# Petrophysics - Resistivity models\u001b[39;00m\n\u001b[1;32m---> 74\u001b[0m \u001b[38;5;28;01mfrom\u001b[39;00m \u001b[38;5;21;01mwatershed_geophysics\u001b[39;00m\u001b[38;5;21;01m.\u001b[39;00m\u001b[38;5;21;01mpetrophysics\u001b[39;00m\u001b[38;5;21;01m.\u001b[39;00m\u001b[38;5;21;01mresistivity_models\u001b[39;00m \u001b[38;5;28;01mimport\u001b[39;00m (\n\u001b[0;32m     75\u001b[0m     BaseResistivityModel,\n\u001b[0;32m     76\u001b[0m     ArchieModel,\n\u001b[0;32m     77\u001b[0m     WaxmanSmitsModel,\n\u001b[0;32m     78\u001b[0m     ModifiedWaxmanSmits,\n\u001b[0;32m     79\u001b[0m     HybridResistivityModel,\n\u001b[0;32m     80\u001b[0m     calculate_resistivity_archie,\n\u001b[0;32m     81\u001b[0m     waxman_smits_resistivity,\n\u001b[0;32m     82\u001b[0m     estimate_saturation_from_resistivity_Ro,\n\u001b[0;32m     83\u001b[0m     estimate_saturation_fsolve_Ro\n\u001b[0;32m     84\u001b[0m )\n\u001b[0;32m     86\u001b[0m \u001b[38;5;66;03m# Petrophysics - Velocity models\u001b[39;00m\n\u001b[0;32m     87\u001b[0m \u001b[38;5;28;01mfrom\u001b[39;00m \u001b[38;5;21;01mwatershed_geophysics\u001b[39;00m\u001b[38;5;21;01m.\u001b[39;00m\u001b[38;5;21;01mpetrophysics\u001b[39;00m\u001b[38;5;21;01m.\u001b[39;00m\u001b[38;5;21;01mvelocity_models\u001b[39;00m \u001b[38;5;28;01mimport\u001b[39;00m (\n\u001b[0;32m     88\u001b[0m     BaseVelocityModel,\n\u001b[0;32m     89\u001b[0m     VRHModel,\n\u001b[1;32m   (...)\u001b[0m\n\u001b[0;32m     96\u001b[0m     vel_porous\n\u001b[0;32m     97\u001b[0m )\n",
      "File \u001b[1;32mc:\\Users\\HChen8\\Documents\\Open_ERT\\watershed_geophysics\\petrophysics\\resistivity_models.py:324\u001b[0m\n\u001b[0;32m    319\u001b[0m             saturation[mask] \u001b[38;5;241m=\u001b[39m sat_region\n\u001b[0;32m    321\u001b[0m         \u001b[38;5;28;01mreturn\u001b[39;00m saturation\n\u001b[1;32m--> 324\u001b[0m \u001b[38;5;28;43;01mclass\u001b[39;49;00m\u001b[43m \u001b[49m\u001b[38;5;21;43;01mHybridResistivityModel\u001b[39;49;00m\u001b[43m(\u001b[49m\u001b[43mBaseResistivityModel\u001b[49m\u001b[43m)\u001b[49m\u001b[43m:\u001b[49m\n\u001b[0;32m    325\u001b[0m \u001b[38;5;250;43m    \u001b[39;49m\u001b[38;5;124;43;03m\"\"\"\u001b[39;49;00m\n\u001b[0;32m    326\u001b[0m \u001b[38;5;124;43;03m    Hybrid resistivity model combining elements from Archie's law, Waxman-Smits,\u001b[39;49;00m\n\u001b[0;32m    327\u001b[0m \u001b[38;5;124;43;03m    and other empirical relationships with region-specific parameters.\u001b[39;49;00m\n\u001b[0;32m    328\u001b[0m \u001b[38;5;124;43;03m    \"\"\"\u001b[39;49;00m\n\u001b[0;32m    330\u001b[0m \u001b[43m    \u001b[49m\u001b[38;5;28;43;01mdef\u001b[39;49;00m\u001b[43m \u001b[49m\u001b[38;5;21;43m__init__\u001b[39;49m\u001b[43m(\u001b[49m\u001b[38;5;28;43mself\u001b[39;49m\u001b[43m,\u001b[49m\u001b[43m \u001b[49m\u001b[43mregions_config\u001b[49m\u001b[43m:\u001b[49m\u001b[43m \u001b[49m\u001b[43mDict\u001b[49m\u001b[43m[\u001b[49m\u001b[38;5;28;43mint\u001b[39;49m\u001b[43m,\u001b[49m\u001b[43m \u001b[49m\u001b[43mDict\u001b[49m\u001b[43m[\u001b[49m\u001b[38;5;28;43mstr\u001b[39;49m\u001b[43m,\u001b[49m\u001b[43m \u001b[49m\u001b[43mAny\u001b[49m\u001b[43m]\u001b[49m\u001b[43m]\u001b[49m\u001b[43m)\u001b[49m\u001b[43m:\u001b[49m\n",
      "File \u001b[1;32mc:\\Users\\HChen8\\Documents\\Open_ERT\\watershed_geophysics\\petrophysics\\resistivity_models.py:330\u001b[0m, in \u001b[0;36mHybridResistivityModel\u001b[1;34m()\u001b[0m\n\u001b[0;32m    324\u001b[0m \u001b[38;5;28;01mclass\u001b[39;00m \u001b[38;5;21;01mHybridResistivityModel\u001b[39;00m(BaseResistivityModel):\n\u001b[0;32m    325\u001b[0m \u001b[38;5;250m    \u001b[39m\u001b[38;5;124;03m\"\"\"\u001b[39;00m\n\u001b[0;32m    326\u001b[0m \u001b[38;5;124;03m    Hybrid resistivity model combining elements from Archie's law, Waxman-Smits,\u001b[39;00m\n\u001b[0;32m    327\u001b[0m \u001b[38;5;124;03m    and other empirical relationships with region-specific parameters.\u001b[39;00m\n\u001b[0;32m    328\u001b[0m \u001b[38;5;124;03m    \"\"\"\u001b[39;00m\n\u001b[1;32m--> 330\u001b[0m     \u001b[38;5;28;01mdef\u001b[39;00m \u001b[38;5;21m__init__\u001b[39m(\u001b[38;5;28mself\u001b[39m, regions_config: Dict[\u001b[38;5;28mint\u001b[39m, Dict[\u001b[38;5;28mstr\u001b[39m, \u001b[43mAny\u001b[49m]]):\n\u001b[0;32m    331\u001b[0m \u001b[38;5;250m        \u001b[39m\u001b[38;5;124;03m\"\"\"\u001b[39;00m\n\u001b[0;32m    332\u001b[0m \u001b[38;5;124;03m        Initialize hybrid resistivity model with region-specific configurations.\u001b[39;00m\n\u001b[0;32m    333\u001b[0m \u001b[38;5;124;03m        \u001b[39;00m\n\u001b[1;32m   (...)\u001b[0m\n\u001b[0;32m    338\u001b[0m \u001b[38;5;124;03m                - Model-specific parameters (a, m, n, etc.)\u001b[39;00m\n\u001b[0;32m    339\u001b[0m \u001b[38;5;124;03m        \"\"\"\u001b[39;00m\n\u001b[0;32m    340\u001b[0m         \u001b[38;5;28msuper\u001b[39m()\u001b[38;5;241m.\u001b[39m\u001b[38;5;21m__init__\u001b[39m()\n",
      "\u001b[1;31mNameError\u001b[0m: name 'Any' is not defined"
     ]
    }
   ],
   "source": [
    "import os\n",
    "import sys\n",
    "import numpy as np\n",
    "import matplotlib.pyplot as plt\n",
    "import pygimli as pg\n",
    "from pygimli.physics import ert\n",
    "from mpl_toolkits.axes_grid1 import make_axes_locatable\n",
    "\n",
    "# Add the parent directory (OPEN_ERT) to the path\n",
    "parent_dir = os.path.dirname(os.path.dirname(current_dir))\n",
    "if parent_dir not in sys.path:\n",
    "    sys.path.append(parent_dir)\n",
    "\n",
    "# Now you can import using the structure as you originally intended\n",
    "from watershed_geophysics.modflow.water_content import MODFLOWWaterContent\n",
    "from watershed_geophysics.core.interpolation import ProfileInterpolator\n",
    "from watershed_geophysics.core.mesh_utils import MeshCreator\n",
    "from watershed_geophysics.petrophysics.resistivity_models import HybridResistivityModel\n",
    "from watershed_geophysics.forward.ert_forward import ERTForwardModeling\n",
    "from watershed_geophysics.inversion.ert_inversion import ERTInversion"
   ]
  },
  {
   "cell_type": "code",
   "execution_count": 13,
   "metadata": {},
   "outputs": [],
   "source": [
    "# For Jupyter notebooks, use the current working directory\n",
    "try:\n",
    "    # For regular Python scripts\n",
    "    current_dir = os.path.dirname(os.path.abspath(__file__))\n",
    "except NameError:\n",
    "    # For Jupyter notebooks\n",
    "    current_dir = os.getcwd()\n",
    "    \n",
    "if current_dir not in sys.path:\n",
    "    sys.path.append(current_dir)"
   ]
  },
  {
   "cell_type": "code",
   "execution_count": 14,
   "metadata": {},
   "outputs": [
    {
     "data": {
      "text/plain": [
       "'c:\\\\Users\\\\HChen8\\\\Documents\\\\Open_ERT\\\\watershed_geophysics\\\\examples'"
      ]
     },
     "execution_count": 14,
     "metadata": {},
     "output_type": "execute_result"
    }
   ],
   "source": [
    " current_dir"
   ]
  }
 ],
 "metadata": {
  "kernelspec": {
   "display_name": "pg",
   "language": "python",
   "name": "python3"
  },
  "language_info": {
   "codemirror_mode": {
    "name": "ipython",
    "version": 3
   },
   "file_extension": ".py",
   "mimetype": "text/x-python",
   "name": "python",
   "nbconvert_exporter": "python",
   "pygments_lexer": "ipython3",
   "version": "3.11.8"
  }
 },
 "nbformat": 4,
 "nbformat_minor": 2
}
