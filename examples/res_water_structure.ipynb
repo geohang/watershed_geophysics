{
 "cells": [
  {
   "cell_type": "code",
   "execution_count": 1,
   "id": "ca17c9e2",
   "metadata": {},
   "outputs": [],
   "source": [
    "import os\n",
    "import sys\n",
    "import numpy as np\n",
    "import matplotlib.pyplot as plt\n",
    "import pygimli as pg\n",
    "from pygimli.physics import ert\n",
    "from mpl_toolkits.axes_grid1 import make_axes_locatable\n",
    "\n",
    "\n",
    "# For Jupyter notebooks, use the current working directory\n",
    "try:\n",
    "    # For regular Python scripts\n",
    "    current_dir = os.path.dirname(os.path.abspath(__file__))\n",
    "except NameError:\n",
    "    # For Jupyter notebooks\n",
    "    current_dir = os.getcwd()\n",
    "# Add the parent directory (OPEN_ERT) to the path\n",
    "parent_dir = os.path.dirname(os.path.dirname(current_dir))\n",
    "if parent_dir not in sys.path:\n",
    "    sys.path.append(parent_dir)\n",
    "\n",
    "\n",
    "# Import the time-lapse inversion class\n",
    "from watershed_geophysics.inversion.time_lapse import TimeLapseERTInversion"
   ]
  },
  {
   "cell_type": "code",
   "execution_count": 2,
   "id": "b475b053",
   "metadata": {},
   "outputs": [
    {
     "name": "stderr",
     "output_type": "stream",
     "text": [
      "10/05/25 - 12:15:07 - pyGIMLi - \u001b[0;32;49mINFO\u001b[0m - Found 3 regions.\n",
      "10/05/25 - 12:15:07 - pyGIMLi - \u001b[0;32;49mINFO\u001b[0m - (ERTModelling) Region with smallest marker (1) set to background.\n",
      "10/05/25 - 12:15:07 - pyGIMLi - \u001b[0;32;49mINFO\u001b[0m - Found 3 regions.\n",
      "10/05/25 - 12:15:07 - pyGIMLi - \u001b[0;32;49mINFO\u001b[0m - (ERTModelling) Region with smallest marker (1) set to background.\n",
      "10/05/25 - 12:15:07 - pyGIMLi - \u001b[0;32;49mINFO\u001b[0m - Found 3 regions.\n",
      "10/05/25 - 12:15:07 - pyGIMLi - \u001b[0;32;49mINFO\u001b[0m - (ERTModelling) Region with smallest marker (1) set to background.\n",
      "10/05/25 - 12:15:07 - pyGIMLi - \u001b[0;32;49mINFO\u001b[0m - Found 3 regions.\n"
     ]
    },
    {
     "name": "stdout",
     "output_type": "stream",
     "text": [
      "Starting time-lapse inversion...\n"
     ]
    },
    {
     "name": "stderr",
     "output_type": "stream",
     "text": [
      "10/05/25 - 12:15:07 - pyGIMLi - \u001b[0;32;49mINFO\u001b[0m - (ERTModelling) Region with smallest marker (1) set to background.\n",
      "10/05/25 - 12:15:07 - pyGIMLi - \u001b[0;32;49mINFO\u001b[0m - Found 3 regions.\n",
      "10/05/25 - 12:15:07 - pyGIMLi - \u001b[0;32;49mINFO\u001b[0m - (ERTModelling) Region with smallest marker (1) set to background.\n",
      "10/05/25 - 12:15:07 - pyGIMLi - \u001b[0;32;49mINFO\u001b[0m - Found 3 regions.\n",
      "10/05/25 - 12:15:07 - pyGIMLi - \u001b[0;32;49mINFO\u001b[0m - (ERTModelling) Region with smallest marker (1) set to background.\n",
      "10/05/25 - 12:15:07 - pyGIMLi - \u001b[0;32;49mINFO\u001b[0m - Found 3 regions.\n",
      "10/05/25 - 12:15:07 - pyGIMLi - \u001b[0;32;49mINFO\u001b[0m - (ERTModelling) Region with smallest marker (1) set to background.\n",
      "10/05/25 - 12:15:07 - pyGIMLi - \u001b[0;32;49mINFO\u001b[0m - Found 3 regions.\n",
      "10/05/25 - 12:15:07 - pyGIMLi - \u001b[0;32;49mINFO\u001b[0m - (ERTModelling) Region with smallest marker (1) set to background.\n",
      "10/05/25 - 12:15:08 - pyGIMLi - \u001b[0;32;49mINFO\u001b[0m - Found 3 regions.\n",
      "10/05/25 - 12:15:08 - pyGIMLi - \u001b[0;32;49mINFO\u001b[0m - (ERTModelling) Region with smallest marker (1) set to background.\n",
      "10/05/25 - 12:15:08 - pyGIMLi - \u001b[0;32;49mINFO\u001b[0m - Found 3 regions.\n",
      "10/05/25 - 12:15:08 - pyGIMLi - \u001b[0;32;49mINFO\u001b[0m - (ERTModelling) Region with smallest marker (1) set to background.\n",
      "10/05/25 - 12:15:08 - pyGIMLi - \u001b[0;32;49mINFO\u001b[0m - Found 3 regions.\n",
      "10/05/25 - 12:15:08 - pyGIMLi - \u001b[0;32;49mINFO\u001b[0m - (ERTModelling) Region with smallest marker (1) set to background.\n",
      "10/05/25 - 12:15:08 - pyGIMLi - \u001b[0;32;49mINFO\u001b[0m - Found 3 regions.\n",
      "10/05/25 - 12:15:08 - pyGIMLi - \u001b[0;32;49mINFO\u001b[0m - (ERTModelling) Region with smallest marker (1) set to background.\n",
      "10/05/25 - 12:15:09 - pyGIMLi - \u001b[0;32;49mINFO\u001b[0m - Creating forward mesh from region infos.\n",
      "10/05/25 - 12:15:09 - pyGIMLi - \u001b[0;32;49mINFO\u001b[0m - Creating refined mesh (H2) to solve forward task.\n",
      "10/05/25 - 12:15:09 - pyGIMLi - \u001b[0;32;49mINFO\u001b[0m - Mesh for forward task: Mesh: Nodes: 11000 Cells: 21572 Boundaries: 16392\n"
     ]
    },
    {
     "name": "stdout",
     "output_type": "stream",
     "text": [
      "-6.907755278982137 9.210340371976184\n",
      "-------------------ERT Iteration: 0 ---------------------------\n"
     ]
    },
    {
     "name": "stderr",
     "output_type": "stream",
     "text": [
      "10/05/25 - 12:15:45 - pyGIMLi - \u001b[0;32;49mINFO\u001b[0m - Creating forward mesh from region infos.\n",
      "10/05/25 - 12:15:45 - pyGIMLi - \u001b[0;32;49mINFO\u001b[0m - Creating refined mesh (H2) to solve forward task.\n",
      "10/05/25 - 12:15:45 - pyGIMLi - \u001b[0;32;49mINFO\u001b[0m - Mesh for forward task: Mesh: Nodes: 11000 Cells: 21572 Boundaries: 16392\n",
      "10/05/25 - 12:16:08 - pyGIMLi - \u001b[0;32;49mINFO\u001b[0m - Creating forward mesh from region infos.\n",
      "10/05/25 - 12:16:08 - pyGIMLi - \u001b[0;32;49mINFO\u001b[0m - Creating refined mesh (H2) to solve forward task.\n",
      "10/05/25 - 12:16:08 - pyGIMLi - \u001b[0;32;49mINFO\u001b[0m - Mesh for forward task: Mesh: Nodes: 11000 Cells: 21572 Boundaries: 16392\n",
      "10/05/25 - 12:16:31 - pyGIMLi - \u001b[0;32;49mINFO\u001b[0m - Creating forward mesh from region infos.\n",
      "10/05/25 - 12:16:31 - pyGIMLi - \u001b[0;32;49mINFO\u001b[0m - Creating refined mesh (H2) to solve forward task.\n",
      "10/05/25 - 12:16:31 - pyGIMLi - \u001b[0;32;49mINFO\u001b[0m - Mesh for forward task: Mesh: Nodes: 11000 Cells: 21572 Boundaries: 16392\n",
      "10/05/25 - 12:16:54 - pyGIMLi - \u001b[0;32;49mINFO\u001b[0m - Creating forward mesh from region infos.\n",
      "10/05/25 - 12:16:54 - pyGIMLi - \u001b[0;32;49mINFO\u001b[0m - Creating refined mesh (H2) to solve forward task.\n",
      "10/05/25 - 12:16:54 - pyGIMLi - \u001b[0;32;49mINFO\u001b[0m - Mesh for forward task: Mesh: Nodes: 11000 Cells: 21572 Boundaries: 16392\n",
      "10/05/25 - 12:17:18 - pyGIMLi - \u001b[0;32;49mINFO\u001b[0m - Creating forward mesh from region infos.\n",
      "10/05/25 - 12:17:18 - pyGIMLi - \u001b[0;32;49mINFO\u001b[0m - Creating refined mesh (H2) to solve forward task.\n",
      "10/05/25 - 12:17:18 - pyGIMLi - \u001b[0;32;49mINFO\u001b[0m - Mesh for forward task: Mesh: Nodes: 11000 Cells: 21572 Boundaries: 16392\n",
      "10/05/25 - 12:17:42 - pyGIMLi - \u001b[0;32;49mINFO\u001b[0m - Creating forward mesh from region infos.\n",
      "10/05/25 - 12:17:42 - pyGIMLi - \u001b[0;32;49mINFO\u001b[0m - Creating refined mesh (H2) to solve forward task.\n",
      "10/05/25 - 12:17:42 - pyGIMLi - \u001b[0;32;49mINFO\u001b[0m - Mesh for forward task: Mesh: Nodes: 11000 Cells: 21572 Boundaries: 16392\n",
      "10/05/25 - 12:18:07 - pyGIMLi - \u001b[0;32;49mINFO\u001b[0m - Creating forward mesh from region infos.\n",
      "10/05/25 - 12:18:07 - pyGIMLi - \u001b[0;32;49mINFO\u001b[0m - Creating refined mesh (H2) to solve forward task.\n",
      "10/05/25 - 12:18:07 - pyGIMLi - \u001b[0;32;49mINFO\u001b[0m - Mesh for forward task: Mesh: Nodes: 11000 Cells: 21572 Boundaries: 16392\n",
      "10/05/25 - 12:18:33 - pyGIMLi - \u001b[0;32;49mINFO\u001b[0m - Creating forward mesh from region infos.\n",
      "10/05/25 - 12:18:33 - pyGIMLi - \u001b[0;32;49mINFO\u001b[0m - Creating refined mesh (H2) to solve forward task.\n",
      "10/05/25 - 12:18:33 - pyGIMLi - \u001b[0;32;49mINFO\u001b[0m - Mesh for forward task: Mesh: Nodes: 11000 Cells: 21572 Boundaries: 16392\n",
      "10/05/25 - 12:19:00 - pyGIMLi - \u001b[0;32;49mINFO\u001b[0m - Creating forward mesh from region infos.\n",
      "10/05/25 - 12:19:00 - pyGIMLi - \u001b[0;32;49mINFO\u001b[0m - Creating refined mesh (H2) to solve forward task.\n",
      "10/05/25 - 12:19:00 - pyGIMLi - \u001b[0;32;49mINFO\u001b[0m - Mesh for forward task: Mesh: Nodes: 11000 Cells: 21572 Boundaries: 16392\n",
      "10/05/25 - 12:19:27 - pyGIMLi - \u001b[0;32;49mINFO\u001b[0m - Creating forward mesh from region infos.\n",
      "10/05/25 - 12:19:27 - pyGIMLi - \u001b[0;32;49mINFO\u001b[0m - Creating refined mesh (H2) to solve forward task.\n",
      "10/05/25 - 12:19:28 - pyGIMLi - \u001b[0;32;49mINFO\u001b[0m - Mesh for forward task: Mesh: Nodes: 11000 Cells: 21572 Boundaries: 16392\n",
      "10/05/25 - 12:19:55 - pyGIMLi - \u001b[0;32;49mINFO\u001b[0m - Creating forward mesh from region infos.\n",
      "10/05/25 - 12:19:55 - pyGIMLi - \u001b[0;32;49mINFO\u001b[0m - Creating refined mesh (H2) to solve forward task.\n",
      "10/05/25 - 12:19:55 - pyGIMLi - \u001b[0;32;49mINFO\u001b[0m - Mesh for forward task: Mesh: Nodes: 11000 Cells: 21572 Boundaries: 16392\n"
     ]
    },
    {
     "name": "stdout",
     "output_type": "stream",
     "text": [
      "ERT chi2: 2345.570854628281\n",
      "dPhi: 1.0\n",
      "ERTphi_d: 23305592.0115866, ERTphi_m: 0.0, ERTphi_t: 0.0\n",
      "-------------------ERT Iteration: 1 ---------------------------\n"
     ]
    },
    {
     "ename": "MemoryError",
     "evalue": "Unable to allocate 29.7 GiB for an array with shape (54012, 73680) and data type float64",
     "output_type": "error",
     "traceback": [
      "\u001b[1;31m---------------------------------------------------------------------------\u001b[0m",
      "\u001b[1;31mMemoryError\u001b[0m                               Traceback (most recent call last)",
      "Cell \u001b[1;32mIn[2], line 59\u001b[0m\n\u001b[0;32m     57\u001b[0m \u001b[38;5;66;03m# Run the inversion\u001b[39;00m\n\u001b[0;32m     58\u001b[0m \u001b[38;5;28mprint\u001b[39m(\u001b[38;5;124m\"\u001b[39m\u001b[38;5;124mStarting time-lapse inversion...\u001b[39m\u001b[38;5;124m\"\u001b[39m)\n\u001b[1;32m---> 59\u001b[0m result \u001b[38;5;241m=\u001b[39m \u001b[43minversion\u001b[49m\u001b[38;5;241;43m.\u001b[39;49m\u001b[43mrun\u001b[49m\u001b[43m(\u001b[49m\u001b[43m)\u001b[49m\n\u001b[0;32m     60\u001b[0m \u001b[38;5;28mprint\u001b[39m(\u001b[38;5;124m\"\u001b[39m\u001b[38;5;124mInversion complete!\u001b[39m\u001b[38;5;124m\"\u001b[39m)\n",
      "File \u001b[1;32mc:\\Users\\HChen8\\Documents\\GitHub\\watershed_geophysics\\inversion\\time_lapse.py:370\u001b[0m, in \u001b[0;36mTimeLapseERTInversion.run\u001b[1;34m(self, initial_model)\u001b[0m\n\u001b[0;32m    367\u001b[0m \u001b[38;5;28;01mdel\u001b[39;00m temp1  \u001b[38;5;66;03m# Delete temporary result\u001b[39;00m\n\u001b[0;32m    369\u001b[0m temp2 \u001b[38;5;241m=\u001b[39m \u001b[38;5;28mself\u001b[39m\u001b[38;5;241m.\u001b[39mWm \u001b[38;5;241m@\u001b[39m mr\n\u001b[1;32m--> 370\u001b[0m grad_model \u001b[38;5;241m=\u001b[39m \u001b[43mLambda\u001b[49m\u001b[43m \u001b[49m\u001b[38;5;241;43m*\u001b[39;49m\u001b[43m \u001b[49m\u001b[38;5;28;43mself\u001b[39;49m\u001b[38;5;241;43m.\u001b[39;49m\u001b[43mWm\u001b[49m\u001b[38;5;241;43m.\u001b[39;49m\u001b[43mT\u001b[49m \u001b[38;5;241m@\u001b[39m temp2\n\u001b[0;32m    371\u001b[0m \u001b[38;5;28;01mdel\u001b[39;00m temp2  \u001b[38;5;66;03m# Delete temporary result\u001b[39;00m\n\u001b[0;32m    373\u001b[0m temp3 \u001b[38;5;241m=\u001b[39m \u001b[38;5;28mself\u001b[39m\u001b[38;5;241m.\u001b[39mWt \u001b[38;5;241m@\u001b[39m mr\n",
      "\u001b[1;31mMemoryError\u001b[0m: Unable to allocate 29.7 GiB for an array with shape (54012, 73680) and data type float64"
     ]
    }
   ],
   "source": [
    "mesh_with_interface = pg.load(\"results/Structure_WC/mesh_with_interface.bms\")\n",
    "\n",
    "\n",
    "data_dir = \"results/TL_measurements/appres\"\n",
    "\n",
    "# List of ERT data files testing monthly time-lapse inversion\n",
    "ert_files = [\n",
    "    \"synthetic_data30.dat\",\n",
    "    \"synthetic_data60.dat\",\n",
    "    \"synthetic_data90.dat\",\n",
    "    \"synthetic_data120.dat\",\n",
    "    \"synthetic_data150.dat\",\n",
    "    \"synthetic_data180.dat\",\n",
    "    \"synthetic_data210.dat\",\n",
    "    \"synthetic_data240.dat\",\n",
    "    \"synthetic_data270.dat\",\n",
    "    \"synthetic_data300.dat\",\n",
    "    \"synthetic_data330.dat\",\n",
    "    \"synthetic_data360.dat\",\n",
    "]\n",
    "\n",
    "\n",
    "# Full paths to data files\n",
    "data_files = [os.path.join(data_dir, f) for f in ert_files]\n",
    "\n",
    "# Measurement times (can be timestamps or any sequential numbers representing time)\n",
    "measurement_times = [1, 2, 3, 4, 5, 6, 7 ,8, 9, 10, 11, 12]  # Adjust based on your actual acquisition times\n",
    "\n",
    "# Create a mesh for the inversion (or load an existing one)\n",
    "data = ert.load(data_files[0])\n",
    "ert_manager = ert.ERTManager(data)\n",
    "\n",
    "\n",
    "# Set up inversion parameters\n",
    "inversion_params = {\n",
    "    \"lambda_val\": 50.0,              # Regularization parameter\n",
    "    \"alpha\": 10.0,                   # Temporal regularization parameter\n",
    "    \"decay_rate\": 0.0,               # Temporal decay rate\n",
    "    \"method\": \"cgls\",                # Solver method ('cgls', 'lsqr', etc.)\n",
    "    \"model_constraints\": (0.001, 1e4), # Min/max resistivity values (ohm-m)\n",
    "    \"max_iterations\": 15,            # Maximum iterations\n",
    "    \"absoluteUError\": 0.0,           # Absolute data error (V)\n",
    "    \"relativeError\": 0.05,           # Relative data error (5%)\n",
    "    \"lambda_rate\": 1.0,              # Lambda reduction rate\n",
    "    \"lambda_min\": 1.0,               # Minimum lambda value\n",
    "    \"inversion_type\": \"L2\"           # 'L1', 'L2', or 'L1L2'\n",
    "}\n",
    "\n",
    "# Create the time-lapse inversion object\n",
    "inversion = TimeLapseERTInversion(\n",
    "    data_files=data_files,\n",
    "    measurement_times=measurement_times,\n",
    "    mesh=mesh_with_interface,\n",
    "    **inversion_params\n",
    ")\n",
    "\n",
    "# Run the inversion\n",
    "print(\"Starting time-lapse inversion...\")\n",
    "result = inversion.run()\n",
    "print(\"Inversion complete!\")"
   ]
  },
  {
   "cell_type": "code",
   "execution_count": null,
   "id": "6b2cb6cc",
   "metadata": {},
   "outputs": [],
   "source": []
  }
 ],
 "metadata": {
  "kernelspec": {
   "display_name": "pg",
   "language": "python",
   "name": "python3"
  },
  "language_info": {
   "codemirror_mode": {
    "name": "ipython",
    "version": 3
   },
   "file_extension": ".py",
   "mimetype": "text/x-python",
   "name": "python",
   "nbconvert_exporter": "python",
   "pygments_lexer": "ipython3",
   "version": "3.11.8"
  }
 },
 "nbformat": 4,
 "nbformat_minor": 5
}
